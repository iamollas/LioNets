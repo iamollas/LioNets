{
 "cells": [
  {
   "cell_type": "code",
   "execution_count": 2,
   "metadata": {},
   "outputs": [],
   "source": [
    "from keras import Sequential\n",
    "from keras.engine.saving import model_from_json\n",
    "from keras.optimizers import Adam\n",
    "from keras.utils import plot_model\n",
    "from sklearn import metrics\n",
    "from sklearn.feature_extraction.text import TfidfVectorizer\n",
    "from sklearn.model_selection import train_test_split\n",
    "from keras.layers import Input, Dense, Embedding, Conv1D, MaxPooling1D, Dropout, LSTM, RepeatVector, GlobalMaxPooling1D, \\\n",
    "    Concatenate, UpSampling2D, UpSampling1D, concatenate\n",
    "from keras.models import Model\n",
    "from load_dataset import Load_Dataset\n",
    "\n",
    "X,y,class_names = Load_Dataset.load_hate_speech()"
   ]
  },
  {
   "cell_type": "code",
   "execution_count": 3,
   "metadata": {},
   "outputs": [],
   "source": [
    "X_train, X_test ,y_train ,y_test = train_test_split(X,y, random_state=70, stratify=y, test_size=0.33)\n",
    "X_train_copy = X_train.copy()\n",
    "X_test_copy = X_test.copy()"
   ]
  },
  {
   "cell_type": "code",
   "execution_count": null,
   "metadata": {},
   "outputs": [],
   "source": [
    "vec = TfidfVectorizer(max_features=5000)\n",
    "vec.fit(X_train_copy)\n",
    "X_train_copy = vec.transform(X_train_copy)\n",
    "X_test_copy = vec.transform(X_test_copy)"
   ]
  },
  {
   "cell_type": "code",
   "execution_count": null,
   "metadata": {},
   "outputs": [],
   "source": [
    "input_dim = len(vec.get_feature_names())\n",
    "autoencoder = Sequential()\n",
    "autoencoder.add(Dense(800, input_shape=(input_dim,), activation='relu'))\n",
    "autoencoder.add(Dropout(0.2))\n",
    "autoencoder.add(Dense(600, activation='relu'))\n",
    "autoencoder.add(Dense(400, activation='relu'))\n",
    "autoencoder.add(Dense(800, activation='relu'))\n",
    "autoencoder.add(Dense(input_dim, activation='sigmoid'))\n",
    "\n",
    "autoencoder.compile(optimizer='adam', loss='categorical_crossentropy',metrics=['accuracy'])\n",
    "print(autoencoder.summary())\n",
    "autoencoder.fit(X_train_copy, X_train_copy, epochs=100, batch_size=64, shuffle=True, \n",
    "                validation_data=(X_test_copy, X_test_copy),verbose=2)"
   ]
  },
  {
   "cell_type": "code",
   "execution_count": null,
   "metadata": {},
   "outputs": [],
   "source": [
    "input_text = Input(shape=(input_dim,))\n",
    "encoder_layer = autoencoder.layers[0](input_text)\n",
    "encoder_layer = autoencoder.layers[1](encoder_layer)\n",
    "encoder_layer = autoencoder.layers[2](encoder_layer)\n",
    "encoder_layer = autoencoder.layers[3](encoder_layer)\n",
    "encoder = Model(input_text, encoder_layer)"
   ]
  },
  {
   "cell_type": "code",
   "execution_count": null,
   "metadata": {},
   "outputs": [],
   "source": [
    "encoded_text = encoder.predict(X_train_copy)\n",
    "decoded_text = autoencoder.predict(X_train_copy)\n",
    "\n",
    "encoded_text_test = encoder.predict(X_test_copy)\n",
    "decoded_text_test = autoencoder.predict(X_test_copy)"
   ]
  }
 ],
 "metadata": {
  "kernelspec": {
   "display_name": "py_36_env",
   "language": "python",
   "name": "py_36_env"
  },
  "language_info": {
   "codemirror_mode": {
    "name": "ipython",
    "version": 3
   },
   "file_extension": ".py",
   "mimetype": "text/x-python",
   "name": "python",
   "nbconvert_exporter": "python",
   "pygments_lexer": "ipython3",
   "version": "3.6.8"
  }
 },
 "nbformat": 4,
 "nbformat_minor": 2
}
